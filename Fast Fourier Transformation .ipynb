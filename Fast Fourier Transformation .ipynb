{
 "cells": [
  {
   "cell_type": "markdown",
   "id": "fdbee04f",
   "metadata": {},
   "source": [
    "# Cooley-Tukey FFT Algorithms\n",
    "https://people.scs.carleton.ca/~maheshwa/courses/5703COMP/16Fall/FFT_Report.pdf"
   ]
  },
  {
   "cell_type": "code",
   "execution_count": 113,
   "id": "9ba57064",
   "metadata": {},
   "outputs": [],
   "source": []
  },
  {
   "cell_type": "code",
   "execution_count": 157,
   "id": "3e61c83a",
   "metadata": {},
   "outputs": [],
   "source": [
    "# Necessary python module import...\n",
    "import math\n",
    "import cmath\n",
    "\n",
    "#check len(cofficient_list) = 2^k for some k>= 1\n",
    "def length_check(poly):\n",
    "    if math.floor(math.log(len(poly),2)) != math.ceil(math.log(len(poly),2)):\n",
    "        while math.floor(math.log(len(poly),2)) != math.ceil(math.log(len(poly),2)):\n",
    "            poly.append(0)\n",
    "        return poly\n",
    "    else:\n",
    "        return poly\n",
    "\n",
    "\n",
    "\n",
    "# split the polynomial.......\n",
    "def splitfft(poly):\n",
    "    len_poly = len(poly)\n",
    "    f_even = [] ; f_odd = []\n",
    "    for i in range(0,len_poly // 2):\n",
    "        f_even.append(poly[2*i])\n",
    "        f_odd.append(poly[2*i + 1])\n",
    "    return f_even , f_odd\n",
    "\n",
    "#  Find FFT(polynomial) of the polynomial.......... \n",
    "def FFT(poly):\n",
    "    # n should be 2^k form for some k>=1\n",
    "    # otherwise add zero upto length n = 2^k\n",
    "    poly = length_check(poly)\n",
    "    n = len(poly) \n",
    "    if n == 1:\n",
    "        return poly\n",
    "    omegan = cmath.exp(2j * cmath.pi  / n)\n",
    "    omega = 1\n",
    "    # split the polynomial into two parts \"odd terms\" and \"even terms\"\n",
    "    f_even , f_odd  = splitfft(poly)\n",
    "    y_even , y_odd = FFT(f_even),FFT(f_odd)\n",
    "\n",
    "    y = [0]*n\n",
    "    for i in range(n//2):\n",
    "        y[i] = y_even[i] + omega * y_odd[i]\n",
    "        y[i + n//2] = y_even[i] - omega * y_odd[i]\n",
    "        omega *= omegan\n",
    "    return y\n",
    "\n",
    "\n",
    "# find inverse FFT of the polynomial\n",
    "def IFFT(fft_poly):\n",
    "    n = len(fft_poly) # n should be 2^k form for some k>=1\n",
    "    if n == 1:\n",
    "        return fft_poly\n",
    "    omegan = cmath.exp(-2j * cmath.pi  / n)\n",
    "\n",
    "    f_even , f_odd  = splitfft(fft_poly)\n",
    "    y_even , y_odd = IFFT(f_even), IFFT(f_odd)\n",
    "\n",
    "    y = [0]*n\n",
    "    for i in range(n//2):\n",
    "        y[i] =( y_even[i] + omegan**i * y_odd[i])/2\n",
    "        y[i + n//2] = (y_even[i] - omegan**i * y_odd[i])/2\n",
    "    return y\n",
    "\n",
    "\n",
    "            \n",
    "# polynomial multiplication.......\n",
    "def PolynomialMultiplication(poly1,poly2):\n",
    "    \n",
    "    n = len(poly1)  + len(poly2) \n",
    "    if math.floor(math.log(n,2)) != math.ceil(math.log(n,2)):\n",
    "        while math.floor(math.log(n,2)) != math.ceil(math.log(n,2)):\n",
    "            n +=1\n",
    "    while len(poly1) != n:\n",
    "        poly1.append(0)\n",
    "    while len(poly2) != n:\n",
    "        poly2.append(0)\n",
    "   \n",
    "    fftpoly1 , fftpoly2 = FFT(poly1) ,FFT(poly2)\n",
    "    \n",
    "    fft_of_mult_result = []\n",
    "    for i in range(n):\n",
    "        fft_of_mult_result.append(fftpoly1[i]*fftpoly2[i])\n",
    "    mult_result = IFFT(fft_of_mult_result)\n",
    "    return mult_result"
   ]
  },
  {
   "cell_type": "code",
   "execution_count": 192,
   "id": "b2c3d309",
   "metadata": {},
   "outputs": [
    {
     "name": "stdout",
     "output_type": "stream",
     "text": [
      "Multiplication result is:  [8, 18, 41, 51, 57, 45, 0, 0]\n"
     ]
    }
   ],
   "source": [
    "poly1 = [4,3,6,9]\n",
    "poly2 = [2,3,5]\n",
    "x = PolynomialMultiplication(poly1,poly2)\n",
    "for i in range(len(x)):\n",
    "    x[i] = round(x[i].real)\n",
    "print(\"Multiplication result is: \",x)"
   ]
  },
  {
   "cell_type": "code",
   "execution_count": 177,
   "id": "890e152b",
   "metadata": {},
   "outputs": [
    {
     "name": "stdout",
     "output_type": "stream",
     "text": [
      "fft of polynomial using my FFT:  [220, (-104.1543289325507+57.97056274847715j), (24.000000000000004+12j), (6.154328932550712-24.029437251522875j), -8, (6.154328932550705+24.029437251522854j), (23.999999999999996-12j), (-104.15432893255071-57.97056274847712j)]\n",
      "length of fft_poly:  8\n",
      "\n",
      "inverse fft:  [8, 18, 41, 51, 57, 45, 0, 0]\n",
      "length of inverse fft:  8\n"
     ]
    }
   ],
   "source": [
    "# verify the result.......\n",
    "poly = [8,18,41,51,57,45]\n",
    "fft = FFT(poly)\n",
    "inversefft = IFFT(fft)\n",
    "for i in range(len(inversefft)):\n",
    "    inversefft[i] = round(inversefft[i].real)\n",
    "print(\"fft of polynomial using my FFT: \",fft)\n",
    "print(\"length of fft_poly: \",len(fft))\n",
    "print()\n",
    "print(\"inverse fft: \",inversefft)\n",
    "print(\"length of inverse fft: \",len(inversefft))"
   ]
  },
  {
   "cell_type": "code",
   "execution_count": null,
   "id": "b7387394",
   "metadata": {},
   "outputs": [],
   "source": []
  },
  {
   "cell_type": "code",
   "execution_count": 178,
   "id": "ca626432",
   "metadata": {},
   "outputs": [
    {
     "name": "stdout",
     "output_type": "stream",
     "text": [
      "fft of polynomial using my FFT:  [-9]\n",
      "length of fft_poly:  1\n",
      "\n",
      "inverse fft:  [-9]\n",
      "length of inverse fft:  1\n"
     ]
    }
   ],
   "source": [
    "# verify the result.......\n",
    "poly = [-9]\n",
    "fft = FFT(poly)\n",
    "inversefft = IFFT(fft)\n",
    "for i in range(len(inversefft)):\n",
    "    inversefft[i] = round(inversefft[i].real)\n",
    "print(\"fft of polynomial using my FFT: \",fft)\n",
    "print(\"length of fft_poly: \",len(fft))\n",
    "print()\n",
    "print(\"inverse fft: \",inversefft)\n",
    "print(\"length of inverse fft: \",len(inversefft))"
   ]
  },
  {
   "cell_type": "code",
   "execution_count": 179,
   "id": "fd795977",
   "metadata": {},
   "outputs": [
    {
     "name": "stdout",
     "output_type": "stream",
     "text": [
      "fft of polynomial using my FFT:  [-1, 5]\n",
      "length of fft_poly:  2\n",
      "\n",
      "inverse fft:  [2, -3]\n",
      "length of inverse fft:  2\n"
     ]
    }
   ],
   "source": [
    "# verify the result.......\n",
    "poly = [2,-3]\n",
    "fft = FFT(poly)\n",
    "inversefft = IFFT(fft)\n",
    "for i in range(len(inversefft)):\n",
    "    inversefft[i] = round(inversefft[i].real)\n",
    "print(\"fft of polynomial using my FFT: \",fft)\n",
    "print(\"length of fft_poly: \",len(fft))\n",
    "print()\n",
    "print(\"inverse fft: \",inversefft)\n",
    "print(\"length of inverse fft: \",len(inversefft))"
   ]
  },
  {
   "cell_type": "code",
   "execution_count": 180,
   "id": "bb6af43c",
   "metadata": {},
   "outputs": [
    {
     "name": "stdout",
     "output_type": "stream",
     "text": [
      "fft of polynomial using my FFT:  [10, (-3+3j), 4, (-3-3j)]\n",
      "length of fft_poly:  4\n",
      "\n",
      "inverse fft:  [2, 3, 5, 0]\n",
      "length of inverse fft:  4\n"
     ]
    }
   ],
   "source": [
    "# verify the result.......\n",
    "poly = [2,3,5]\n",
    "fft = FFT(poly)\n",
    "inversefft = IFFT(fft)\n",
    "for i in range(len(inversefft)):\n",
    "    inversefft[i] = round(inversefft[i].real)\n",
    "    \n",
    "print(\"fft of polynomial using my FFT: \",fft)\n",
    "print(\"length of fft_poly: \",len(fft))\n",
    "print()\n",
    "print(\"inverse fft: \",inversefft)\n",
    "print(\"length of inverse fft: \",len(inversefft))"
   ]
  },
  {
   "cell_type": "code",
   "execution_count": 181,
   "id": "a32936eb",
   "metadata": {},
   "outputs": [
    {
     "name": "stdout",
     "output_type": "stream",
     "text": [
      "fft of polynomial using my FFT:  [22, (-2.0000000000000004-6j), -2, (-1.9999999999999996+6j)]\n",
      "length of fft_poly:  4\n",
      "\n",
      "inverse fft:  [4, 3, 6, 9]\n",
      "length of inverse fft:  4\n"
     ]
    }
   ],
   "source": [
    "# verify the result.......\n",
    "poly = [4,3,6,9]\n",
    "fft = FFT(poly)\n",
    "inversefft = IFFT(fft)\n",
    "for i in range(len(inversefft)):\n",
    "    inversefft[i] = round(inversefft[i].real)\n",
    "    \n",
    "print(\"fft of polynomial using my FFT: \",fft)\n",
    "print(\"length of fft_poly: \",len(fft))\n",
    "print()\n",
    "print(\"inverse fft: \",inversefft)\n",
    "print(\"length of inverse fft: \",len(inversefft))"
   ]
  },
  {
   "cell_type": "code",
   "execution_count": 182,
   "id": "3189768d",
   "metadata": {},
   "outputs": [
    {
     "name": "stdout",
     "output_type": "stream",
     "text": [
      "fft of polynomial using my FFT:  [1, (4.636038969321072+7.121320343559644j), (-12.000000000000002-9j), (17.36396103067893-2.8786796564403594j), -5, (17.36396103067893+2.8786796564403563j), (-11.999999999999998+9j), (4.636038969321072-7.12132034355964j)]\n",
      "length of fft_poly:  8\n",
      "\n",
      "inverse fft:  [2, -3, 5, 6, -9, 0, 0, 0]\n",
      "length of inverse fft:  8\n"
     ]
    }
   ],
   "source": [
    "# verify the result.......\n",
    "poly = [2,-3,5,6,-9]\n",
    "fft = FFT(poly)\n",
    "inversefft = IFFT(fft)\n",
    "for i in range(len(inversefft)):\n",
    "    inversefft[i] = round(inversefft[i].real)\n",
    "    \n",
    "print(\"fft of polynomial using my FFT: \",fft)\n",
    "print(\"length of fft_poly: \",len(fft))\n",
    "print()\n",
    "print(\"inverse fft: \",inversefft)\n",
    "print(\"length of inverse fft: \",len(inversefft))"
   ]
  },
  {
   "cell_type": "code",
   "execution_count": 183,
   "id": "ef7730a3",
   "metadata": {},
   "outputs": [
    {
     "name": "stdout",
     "output_type": "stream",
     "text": [
      "fft of polynomial using my FFT:  [0, (-6.142135623730951-10.14213562373095j), (-6-2j), (22.142135623730947-18.142135623730955j), 4, (22.14213562373095+18.14213562373095j), (-6+2j), (-6.1421356237309475+10.142135623730955j)]\n",
      "length of fft_poly:  8\n",
      "\n",
      "inverse fft:  [3, -11, 4, 0, -5, 9, 0, 0]\n",
      "length of inverse fft:  8\n"
     ]
    }
   ],
   "source": [
    "# verify the result.......\n",
    "poly = [3,-11,4,0,-5,9]\n",
    "fft = FFT(poly)\n",
    "inversefft = IFFT(fft)\n",
    "for i in range(len(inversefft)):\n",
    "    inversefft[i] = round(inversefft[i].real)\n",
    "    \n",
    "print(\"fft of polynomial using my FFT: \",fft)\n",
    "print(\"length of fft_poly: \",len(fft))\n",
    "print()\n",
    "print(\"inverse fft: \",inversefft)\n",
    "print(\"length of inverse fft: \",len(inversefft))"
   ]
  },
  {
   "cell_type": "code",
   "execution_count": 184,
   "id": "d3736319",
   "metadata": {},
   "outputs": [
    {
     "name": "stdout",
     "output_type": "stream",
     "text": [
      "fft of polynomial using my FFT:  [24, (-6.849242404917497+0.29289321881345387j), (-9-1j), (22.849242404917497-1.7071067811865506j), -14, (22.849242404917497+1.7071067811865461j), (-9+1j), (-6.849242404917497-0.29289321881344943j)]\n",
      "length of fft_poly:  8\n",
      "\n",
      "inverse fft:  [3, -1, 4, 10, -5, 10, 3, 0]\n",
      "length of inverse fft:  8\n"
     ]
    }
   ],
   "source": [
    "# verify the result.......\n",
    "poly = [3,-1,4,10,-5,10,3]\n",
    "fft = FFT(poly)\n",
    "inversefft = IFFT(fft)\n",
    "for i in range(len(inversefft)):\n",
    "    inversefft[i] = round(inversefft[i].real)\n",
    "    \n",
    "print(\"fft of polynomial using my FFT: \",fft)\n",
    "print(\"length of fft_poly: \",len(fft))\n",
    "print()\n",
    "print(\"inverse fft: \",inversefft)\n",
    "print(\"length of inverse fft: \",len(inversefft))"
   ]
  },
  {
   "cell_type": "code",
   "execution_count": 185,
   "id": "edbfbc07",
   "metadata": {},
   "outputs": [
    {
     "name": "stdout",
     "output_type": "stream",
     "text": [
      "fft of polynomial using my FFT:  [13, (-0.4852813742385713-20.213203435596427j), (-9.000000000000002-10j), (16.485281374238564-22.213203435596427j), -3, (16.48528137423857+22.213203435596427j), (-8.999999999999998+10j), (-0.4852813742385642+20.213203435596427j)]\n",
      "length of fft_poly:  8\n",
      "\n",
      "inverse fft:  [3, -11, 4, 0, -5, 10, 3, 9]\n",
      "length of inverse fft:  8\n"
     ]
    }
   ],
   "source": [
    "# verify the result.......\n",
    "poly = [3,-11,4,0,-5,10,3,9]\n",
    "fft = FFT(poly)\n",
    "inversefft = IFFT(fft)\n",
    "for i in range(len(inversefft)):\n",
    "    inversefft[i] = round(inversefft[i].real)\n",
    "    \n",
    "print(\"fft of polynomial using my FFT: \",fft)\n",
    "print(\"length of fft_poly: \",len(fft))\n",
    "print()\n",
    "print(\"inverse fft: \",inversefft)\n",
    "print(\"length of inverse fft: \",len(inversefft))"
   ]
  },
  {
   "cell_type": "code",
   "execution_count": 190,
   "id": "8db2b6cb",
   "metadata": {},
   "outputs": [
    {
     "name": "stdout",
     "output_type": "stream",
     "text": [
      "Multiplication result is:  [8, 18, 41, 51, 57, 45, 0, 0, 0, 0, 0, 0, 0, 0, 0, 0]\n"
     ]
    }
   ],
   "source": [
    "poly1 = [4,3,6,9]\n",
    "poly2 = [2,3,5]\n",
    "PolynomialMultiplication(poly1,poly2)\n",
    "x = PolynomialMultiplication(poly1,poly2)\n",
    "for i in range(len(x)):\n",
    "    x[i] = round(x[i].real)\n",
    "print(\"Multiplication result is: \",x)"
   ]
  },
  {
   "cell_type": "code",
   "execution_count": 191,
   "id": "d39356cc",
   "metadata": {},
   "outputs": [
    {
     "name": "stdout",
     "output_type": "stream",
     "text": [
      "Multiplication result is:  [4, 0, 11, 12, 25, 3, -45, 0]\n"
     ]
    }
   ],
   "source": [
    "poly1 = [2,-3,5,6,-9]\n",
    "poly2 = [2,3,5]\n",
    "x = PolynomialMultiplication(poly1,poly2)\n",
    "for i in range(len(x)):\n",
    "    x[i] = round(x[i].real)\n",
    "print(\"Multiplication result is: \",x)"
   ]
  },
  {
   "cell_type": "code",
   "execution_count": 189,
   "id": "3c36a437",
   "metadata": {},
   "outputs": [
    {
     "name": "stdout",
     "output_type": "stream",
     "text": [
      "Multiplication result is:  [18.0, 39.0, 69.0, 47.0, 27.0, 20.0, 0.0, 0.0]\n"
     ]
    }
   ],
   "source": [
    "poly1 = [9,6,3,4]\n",
    "poly2 = [2,3,5]\n",
    "x = PolynomialMultiplication(poly1,poly2)\n",
    "for i in range(len(x)):\n",
    "    x[i] = x[i].real\n",
    "print(\"Multiplication result is: \",x)"
   ]
  },
  {
   "cell_type": "code",
   "execution_count": null,
   "id": "53e4ec3d",
   "metadata": {},
   "outputs": [],
   "source": []
  },
  {
   "cell_type": "code",
   "execution_count": null,
   "id": "10941087",
   "metadata": {},
   "outputs": [],
   "source": []
  },
  {
   "cell_type": "code",
   "execution_count": 20,
   "id": "5c0170fb",
   "metadata": {},
   "outputs": [],
   "source": []
  }
 ],
 "metadata": {
  "kernelspec": {
   "display_name": "Python 3 (ipykernel)",
   "language": "python",
   "name": "python3"
  },
  "language_info": {
   "codemirror_mode": {
    "name": "ipython",
    "version": 3
   },
   "file_extension": ".py",
   "mimetype": "text/x-python",
   "name": "python",
   "nbconvert_exporter": "python",
   "pygments_lexer": "ipython3",
   "version": "3.11.4"
  }
 },
 "nbformat": 4,
 "nbformat_minor": 5
}
